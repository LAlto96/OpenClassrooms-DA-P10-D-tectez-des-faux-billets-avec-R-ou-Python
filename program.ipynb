{
 "cells": [
  {
   "cell_type": "code",
   "execution_count": 2,
   "metadata": {},
   "outputs": [],
   "source": [
    "import pickle\n",
    "import numpy as np\n",
    "import pandas as pd\n",
    "from sklearn.cluster import KMeans"
   ]
  },
  {
   "cell_type": "code",
   "execution_count": 3,
   "metadata": {},
   "outputs": [
    {
     "name": "stdout",
     "output_type": "stream",
     "text": [
      "Banknote #A_1 is not Genuine\n",
      "[0.99039863 0.00960137]\n",
      "\n",
      "\n",
      "Banknote #A_2 is not Genuine\n",
      "[0.99665862 0.00334138]\n",
      "\n",
      "\n",
      "Banknote #A_3 is not Genuine\n",
      "[0.99662651 0.00337349]\n",
      "\n",
      "\n",
      "Banknote #A_4 is Genuine\n",
      "[0.12987954 0.87012046]\n",
      "\n",
      "\n",
      "Banknote #A_5 is Genuine\n",
      "[0.00122996 0.99877004]\n",
      "\n",
      "\n"
     ]
    }
   ],
   "source": [
    "def prediction(data='billets_production.csv', model_type= 'logreg_model.pkl', sep=','):\n",
    "    # Load Data :\n",
    "    df = pd.read_csv(data, sep=sep)\n",
    "    id = df['id'].to_list()\n",
    "    df = df.drop(['id'], axis=1)\n",
    "\n",
    "    # Load Model :\n",
    "    with open(model_type, 'rb') as file:\n",
    "        model = pickle.load(file)\n",
    "\n",
    "    # Prediction :\n",
    "    pred = model.predict(df)\n",
    "    proba = model.predict_proba(df)\n",
    "    df['is_guenuine'] = pred\n",
    "\n",
    "    # Print Result :\n",
    "    for i in range(len(df)):\n",
    "        if df['is_guenuine'][i] == 0:\n",
    "            print ('Banknote #{} is not Genuine'.format(id[i]))\n",
    "            print(proba[i])\n",
    "        else:\n",
    "            print ('Banknote #{} is Genuine'.format(id[i]))\n",
    "            print(proba[i])\n",
    "        print('\\n')\n",
    "\n",
    "prediction()\n"
   ]
  }
 ],
 "metadata": {
  "kernelspec": {
   "display_name": "pydata",
   "language": "python",
   "name": "python3"
  },
  "language_info": {
   "codemirror_mode": {
    "name": "ipython",
    "version": 3
   },
   "file_extension": ".py",
   "mimetype": "text/x-python",
   "name": "python",
   "nbconvert_exporter": "python",
   "pygments_lexer": "ipython3",
   "version": "3.10.12"
  },
  "orig_nbformat": 4
 },
 "nbformat": 4,
 "nbformat_minor": 2
}
